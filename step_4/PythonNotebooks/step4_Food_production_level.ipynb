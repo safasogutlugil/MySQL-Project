{
 "cells": [
  {
   "cell_type": "code",
   "execution_count": 5,
   "metadata": {},
   "outputs": [
    {
     "data": {
      "application/vnd.plotly.v1+json": {
       "config": {
        "plotlyServerURL": "https://plot.ly"
       },
       "data": [
        {
         "branchvalues": "total",
         "customdata": [
          [
           "AFG",
           319.23381429
          ],
          [
           "ALB",
           343.31405
          ],
          [
           "DZA",
           688.7744069
          ],
          [
           "AGO",
           51.9731
          ],
          [
           "ATG",
           64.39733333
          ],
          [
           "ARG",
           186.73806102000003
          ],
          [
           "ARM",
           70.9141
          ],
          [
           "AUS",
           283.61645763
          ],
          [
           "AUT",
           226.10241864
          ],
          [
           "AZE",
           211.49552273
          ],
          [
           "BHS",
           231.54284706
          ],
          [
           "BGD",
           26254.597945759997
          ],
          [
           "BRB",
           97.16097458000002
          ],
          [
           "BLR",
           2883.20860909
          ],
          [
           "BEL",
           587.00797
          ],
          [
           "BLZ",
           78.60761667
          ],
          [
           "BRA",
           56.0150625
          ],
          [
           "BGR",
           293.65022128
          ],
          [
           "BFA",
           70.76526
          ],
          [
           "BDI",
           72.06555
          ],
          [
           "KHM",
           348.53993559
          ],
          [
           "CAN",
           230.7094
          ],
          [
           "CAF",
           69.5334027
          ],
          [
           "TCD",
           221.327592
          ],
          [
           "CHL",
           210.74469149
          ],
          [
           "CHN",
           219.47112881
          ],
          [
           "COM",
           154.65615
          ],
          [
           "COG",
           276.70094576
          ],
          [
           "CRI",
           120.27723226
          ],
          [
           "HRV",
           120.996475
          ],
          [
           "CUB",
           224.01557692
          ],
          [
           "CYP",
           456.4832
          ],
          [
           "CZE",
           5117.356
          ],
          [
           "DNK",
           232.7500661
          ],
          [
           "DJI",
           692.85151429
          ],
          [
           "DMA",
           68.758
          ],
          [
           "DOM",
           179.75844407
          ],
          [
           "ECU",
           126.52565
          ],
          [
           "EST",
           235.611724
          ],
          [
           "SWZ",
           50.5784
          ],
          [
           "FJI",
           758.59377391
          ],
          [
           "FRA",
           424.59382372999994
          ],
          [
           "PYF",
           293.552
          ],
          [
           "GAB",
           119.90425085
          ],
          [
           "GMB",
           142.46840185
          ],
          [
           "DEU",
           214.44937458
          ],
          [
           "GHA",
           78.18573514
          ],
          [
           "GRC",
           692.51852881
          ],
          [
           "GRD",
           101.8114375
          ],
          [
           "GIN",
           90.95334035
          ],
          [
           "GNB",
           160.97604643
          ],
          [
           "GUY",
           563.13285
          ],
          [
           "HTI",
           51.5445
          ],
          [
           "HKG",
           142.30092807
          ],
          [
           "HUN",
           2357.60454063
          ],
          [
           "IND",
           141.66363898
          ],
          [
           "IDN",
           54.84705
          ],
          [
           "IRQ",
           5555.38228136
          ],
          [
           "IRL",
           138.42607759
          ],
          [
           "ISR",
           158.85990851
          ],
          [
           "ITA",
           243.24579153
          ],
          [
           "JAM",
           113.94190169000001
          ],
          [
           "JPN",
           154.51721754
          ],
          [
           "JOR",
           1067.4901625
          ],
          [
           "KAZ",
           1313.01609643
          ],
          [
           "KWT",
           226.33790909
          ],
          [
           "KGZ",
           53.1838
          ],
          [
           "LVA",
           2012.48352941
          ],
          [
           "LBN",
           4103.3235
          ],
          [
           "LBR",
           1874.26574737
          ],
          [
           "LBY",
           605.11541
          ],
          [
           "LTU",
           2565.523332
          ],
          [
           "LUX",
           254.3554
          ],
          [
           "MAC",
           663.66
          ],
          [
           "MDG",
           80.94039825
          ],
          [
           "MYS",
           264.65067966
          ],
          [
           "MLI",
           91.38932581
          ],
          [
           "MLT",
           281.36935111
          ],
          [
           "MRT",
           368.49436102
          ],
          [
           "MUS",
           532.07695085
          ],
          [
           "MNG",
           845.91045
          ],
          [
           "MNE",
           266.97907857
          ],
          [
           "MAR",
           72.17384848
          ],
          [
           "MMR",
           476.66582542
          ],
          [
           "NLD",
           365.23305085
          ],
          [
           "NCL",
           217.134
          ],
          [
           "NZL",
           958.82128966
          ],
          [
           "NER",
           803.42897966
          ],
          [
           "NGA",
           110.50623332999999
          ],
          [
           "PRK",
           50.08740000000001
          ],
          [
           "MKD",
           403.6048
          ],
          [
           "NOR",
           3294.19690938
          ],
          [
           "OMN",
           91.84302
          ],
          [
           "PAK",
           125.32478475
          ],
          [
           "PAN",
           54.75682857
          ],
          [
           "PNG",
           612.28422
          ],
          [
           "PER",
           67.89310667
          ],
          [
           "PHL",
           75.30678182
          ],
          [
           "PRT",
           96.13663556
          ],
          [
           "RUS",
           2353.92118214
          ],
          [
           "RWA",
           83.17658333
          ],
          [
           "LCA",
           170.89283333
          ],
          [
           "VCT",
           98.13715625
          ],
          [
           "WSM",
           202.6775
          ],
          [
           "STP",
           112.007372
          ],
          [
           "SAU",
           675.69794872
          ],
          [
           "SEN",
           80.48205217
          ],
          [
           "SYC",
           99.22466667000002
          ],
          [
           "SLE",
           392.54594576
          ],
          [
           "SVN",
           67.2738
          ],
          [
           "KOR",
           329.66050339
          ],
          [
           "ESP",
           871.94837119
          ],
          [
           "LKA",
           483.77165085
          ],
          [
           "SDN",
           2242.253
          ],
          [
           "SUR",
           486.78014286
          ],
          [
           "SWE",
           747.1615847500001
          ],
          [
           "CHE",
           697.12410847
          ],
          [
           "TWN",
           337.80109661
          ],
          [
           "TJK",
           196.82665714
          ],
          [
           "THA",
           4495.6254451
          ],
          [
           "TTO",
           281.19992712
          ],
          [
           "TUR",
           83.2924549
          ],
          [
           "TKM",
           5918.478
          ],
          [
           "UGA",
           63.29528182
          ],
          [
           "UKR",
           94.74851428999999
          ],
          [
           "ARE",
           1338.43926486
          ],
          [
           "GBR",
           404.32442881000003
          ],
          [
           "USA",
           98.99366949
          ],
          [
           "URY",
           276.3319
          ],
          [
           "UZB",
           184.79036786
          ],
          [
           "VNM",
           133.17230169
          ],
          [
           "YEM",
           238.2701
          ]
         ],
         "domain": {
          "x": [
           0,
           1
          ],
          "y": [
           0,
           1
          ]
         },
         "hovertemplate": "labels=%{label}<br>PFR_average_sum=%{value}<br>parent=%{parent}<br>id=%{id}<br>iso_alpha=%{customdata[0]}<br>PFR_average=%{color}<extra></extra>",
         "ids": [
          "Afghanistan",
          "Albania",
          "Algeria",
          "Angola",
          "Antigua and Barbuda",
          "Argentina",
          "Armenia",
          "Australia",
          "Austria",
          "Azerbaijan",
          "Bahamas",
          "Bangladesh",
          "Barbados",
          "Belarus",
          "Belgium",
          "Belize",
          "Brazil",
          "Bulgaria",
          "Burkina Faso",
          "Burundi",
          "Cambodia",
          "Canada",
          "Central African Republic",
          "Chad",
          "Chile",
          "China",
          "Comoros",
          "Congo",
          "Costa Rica",
          "Croatia",
          "Cuba",
          "Cyprus",
          "Czechia",
          "Denmark",
          "Djibouti",
          "Dominica",
          "Dominican Republic",
          "Ecuador",
          "Estonia",
          "Eswatini",
          "Fiji",
          "France",
          "French Polynesia",
          "Gabon",
          "Gambia",
          "Germany",
          "Ghana",
          "Greece",
          "Grenada",
          "Guinea",
          "Guinea-Bissau",
          "Guyana",
          "Haiti",
          "Hong Kong",
          "Hungary",
          "India",
          "Indonesia",
          "Iraq",
          "Ireland",
          "Israel",
          "Italy",
          "Jamaica",
          "Japan",
          "Jordan",
          "Kazakhstan",
          "Kuwait",
          "Kyrgyzstan",
          "Latvia",
          "Lebanon",
          "Liberia",
          "Libya",
          "Lithuania",
          "Luxembourg",
          "Macao",
          "Madagascar",
          "Malaysia",
          "Mali",
          "Malta",
          "Mauritania",
          "Mauritius",
          "Mongolia",
          "Montenegro",
          "Morocco",
          "Myanmar",
          "Netherlands",
          "New Caledonia",
          "New Zealand",
          "Niger",
          "Nigeria",
          "North Korea",
          "North Macedonia",
          "Norway",
          "Oman",
          "Pakistan",
          "Panama",
          "Papua New Guinea",
          "Peru",
          "Philippines",
          "Portugal",
          "Russian Federation",
          "Rwanda",
          "Saint Lucia",
          "Saint Vincent and the Grenadines",
          "Samoa",
          "Sao Tome and Principe",
          "Saudi Arabia",
          "Senegal",
          "Seychelles",
          "Sierra Leone",
          "Slovenia",
          "South Korea",
          "Spain",
          "Sri Lanka",
          "Sudan",
          "Suriname",
          "Sweden",
          "Switzerland",
          "Taiwan",
          "Tajikistan",
          "Thailand",
          "Trinidad and Tobago",
          "Turkey",
          "Turkmenistan",
          "Uganda",
          "Ukraine",
          "United Arab Emirates",
          "United Kingdom",
          "United States",
          "Uruguay",
          "Uzbekistan",
          "Vietnam",
          "Yemen"
         ],
         "labels": [
          "Afghanistan",
          "Albania",
          "Algeria",
          "Angola",
          "Antigua and Barbuda",
          "Argentina",
          "Armenia",
          "Australia",
          "Austria",
          "Azerbaijan",
          "Bahamas",
          "Bangladesh",
          "Barbados",
          "Belarus",
          "Belgium",
          "Belize",
          "Brazil",
          "Bulgaria",
          "Burkina Faso",
          "Burundi",
          "Cambodia",
          "Canada",
          "Central African Republic",
          "Chad",
          "Chile",
          "China",
          "Comoros",
          "Congo",
          "Costa Rica",
          "Croatia",
          "Cuba",
          "Cyprus",
          "Czechia",
          "Denmark",
          "Djibouti",
          "Dominica",
          "Dominican Republic",
          "Ecuador",
          "Estonia",
          "Eswatini",
          "Fiji",
          "France",
          "French Polynesia",
          "Gabon",
          "Gambia",
          "Germany",
          "Ghana",
          "Greece",
          "Grenada",
          "Guinea",
          "Guinea-Bissau",
          "Guyana",
          "Haiti",
          "Hong Kong",
          "Hungary",
          "India",
          "Indonesia",
          "Iraq",
          "Ireland",
          "Israel",
          "Italy",
          "Jamaica",
          "Japan",
          "Jordan",
          "Kazakhstan",
          "Kuwait",
          "Kyrgyzstan",
          "Latvia",
          "Lebanon",
          "Liberia",
          "Libya",
          "Lithuania",
          "Luxembourg",
          "Macao",
          "Madagascar",
          "Malaysia",
          "Mali",
          "Malta",
          "Mauritania",
          "Mauritius",
          "Mongolia",
          "Montenegro",
          "Morocco",
          "Myanmar",
          "Netherlands",
          "New Caledonia",
          "New Zealand",
          "Niger",
          "Nigeria",
          "North Korea",
          "North Macedonia",
          "Norway",
          "Oman",
          "Pakistan",
          "Panama",
          "Papua New Guinea",
          "Peru",
          "Philippines",
          "Portugal",
          "Russian Federation",
          "Rwanda",
          "Saint Lucia",
          "Saint Vincent and the Grenadines",
          "Samoa",
          "Sao Tome and Principe",
          "Saudi Arabia",
          "Senegal",
          "Seychelles",
          "Sierra Leone",
          "Slovenia",
          "South Korea",
          "Spain",
          "Sri Lanka",
          "Sudan",
          "Suriname",
          "Sweden",
          "Switzerland",
          "Taiwan",
          "Tajikistan",
          "Thailand",
          "Trinidad and Tobago",
          "Turkey",
          "Turkmenistan",
          "Uganda",
          "Ukraine",
          "United Arab Emirates",
          "United Kingdom",
          "United States",
          "Uruguay",
          "Uzbekistan",
          "Vietnam",
          "Yemen"
         ],
         "marker": {
          "coloraxis": "coloraxis",
          "colors": [
           319.23381429,
           343.31405,
           688.7744069,
           51.9731,
           64.39733333,
           186.73806102000003,
           70.9141,
           283.61645763,
           226.10241864,
           211.49552273,
           231.54284706,
           26254.597945759997,
           97.16097458000002,
           2883.20860909,
           587.00797,
           78.60761667,
           56.0150625,
           293.65022128,
           70.76526,
           72.06555,
           348.53993559,
           230.7094,
           69.5334027,
           221.327592,
           210.74469149,
           219.47112881,
           154.65615,
           276.70094576,
           120.27723226,
           120.996475,
           224.01557692,
           456.4832,
           5117.356,
           232.7500661,
           692.85151429,
           68.758,
           179.75844407,
           126.52565,
           235.611724,
           50.5784,
           758.59377391,
           424.59382372999994,
           293.552,
           119.90425085,
           142.46840185,
           214.44937458,
           78.18573514,
           692.51852881,
           101.8114375,
           90.95334035,
           160.97604643,
           563.13285,
           51.5445,
           142.30092807,
           2357.60454063,
           141.66363898,
           54.84705,
           5555.38228136,
           138.42607759,
           158.85990851,
           243.24579153,
           113.94190169000001,
           154.51721754,
           1067.4901625,
           1313.01609643,
           226.33790909,
           53.1838,
           2012.48352941,
           4103.3235,
           1874.26574737,
           605.11541,
           2565.523332,
           254.3554,
           663.66,
           80.94039825,
           264.65067966,
           91.38932581,
           281.36935111,
           368.49436102,
           532.07695085,
           845.91045,
           266.97907857,
           72.17384848,
           476.66582542,
           365.23305085,
           217.134,
           958.82128966,
           803.42897966,
           110.50623332999999,
           50.08740000000001,
           403.6048,
           3294.19690938,
           91.84302,
           125.32478475,
           54.75682857,
           612.28422,
           67.89310667,
           75.30678182,
           96.13663556,
           2353.92118214,
           83.17658333,
           170.89283333,
           98.13715625,
           202.6775,
           112.007372,
           675.69794872,
           80.48205217,
           99.22466667000002,
           392.54594576,
           67.2738,
           329.66050339,
           871.94837119,
           483.77165085,
           2242.253,
           486.78014286,
           747.1615847500001,
           697.12410847,
           337.80109661,
           196.82665714,
           4495.6254451,
           281.19992712,
           83.2924549,
           5918.478,
           63.29528182,
           94.74851428999999,
           1338.43926486,
           404.32442881000003,
           98.99366949,
           276.3319,
           184.79036786,
           133.17230169,
           238.2701
          ]
         },
         "name": "",
         "parents": [
          "",
          "",
          "",
          "",
          "",
          "",
          "",
          "",
          "",
          "",
          "",
          "",
          "",
          "",
          "",
          "",
          "",
          "",
          "",
          "",
          "",
          "",
          "",
          "",
          "",
          "",
          "",
          "",
          "",
          "",
          "",
          "",
          "",
          "",
          "",
          "",
          "",
          "",
          "",
          "",
          "",
          "",
          "",
          "",
          "",
          "",
          "",
          "",
          "",
          "",
          "",
          "",
          "",
          "",
          "",
          "",
          "",
          "",
          "",
          "",
          "",
          "",
          "",
          "",
          "",
          "",
          "",
          "",
          "",
          "",
          "",
          "",
          "",
          "",
          "",
          "",
          "",
          "",
          "",
          "",
          "",
          "",
          "",
          "",
          "",
          "",
          "",
          "",
          "",
          "",
          "",
          "",
          "",
          "",
          "",
          "",
          "",
          "",
          "",
          "",
          "",
          "",
          "",
          "",
          "",
          "",
          "",
          "",
          "",
          "",
          "",
          "",
          "",
          "",
          "",
          "",
          "",
          "",
          "",
          "",
          "",
          "",
          "",
          "",
          "",
          "",
          "",
          "",
          "",
          "",
          "",
          ""
         ],
         "type": "treemap",
         "values": [
          319.23381429,
          343.31405,
          688.7744069,
          51.9731,
          64.39733333,
          186.73806102,
          70.9141,
          283.61645763,
          226.10241864,
          211.49552273,
          231.54284706,
          26254.59794576,
          97.16097458,
          2883.20860909,
          587.00797,
          78.60761667,
          56.0150625,
          293.65022128,
          70.76526,
          72.06555,
          348.53993559,
          230.7094,
          69.5334027,
          221.327592,
          210.74469149,
          219.47112881,
          154.65615,
          276.70094576,
          120.27723226,
          120.996475,
          224.01557692,
          456.4832,
          5117.356,
          232.7500661,
          692.85151429,
          68.758,
          179.75844407,
          126.52565,
          235.611724,
          50.5784,
          758.59377391,
          424.59382373,
          293.552,
          119.90425085,
          142.46840185,
          214.44937458,
          78.18573514,
          692.51852881,
          101.8114375,
          90.95334035,
          160.97604643,
          563.13285,
          51.5445,
          142.30092807,
          2357.60454063,
          141.66363898,
          54.84705,
          5555.38228136,
          138.42607759,
          158.85990851,
          243.24579153,
          113.94190169,
          154.51721754,
          1067.4901625,
          1313.01609643,
          226.33790909,
          53.1838,
          2012.48352941,
          4103.3235,
          1874.26574737,
          605.11541,
          2565.523332,
          254.3554,
          663.66,
          80.94039825,
          264.65067966,
          91.38932581,
          281.36935111,
          368.49436102,
          532.07695085,
          845.91045,
          266.97907857,
          72.17384848,
          476.66582542,
          365.23305085,
          217.134,
          958.82128966,
          803.42897966,
          110.50623333,
          50.0874,
          403.6048,
          3294.19690938,
          91.84302,
          125.32478475,
          54.75682857,
          612.28422,
          67.89310667,
          75.30678182,
          96.13663556,
          2353.92118214,
          83.17658333,
          170.89283333,
          98.13715625,
          202.6775,
          112.007372,
          675.69794872,
          80.48205217,
          99.22466667,
          392.54594576,
          67.2738,
          329.66050339,
          871.94837119,
          483.77165085,
          2242.253,
          486.78014286,
          747.16158475,
          697.12410847,
          337.80109661,
          196.82665714,
          4495.6254451,
          281.19992712,
          83.2924549,
          5918.478,
          63.29528182,
          94.74851429,
          1338.43926486,
          404.32442881,
          98.99366949,
          276.3319,
          184.79036786,
          133.17230169,
          238.2701
         ]
        }
       ],
       "layout": {
        "coloraxis": {
         "cmid": 8447.335576670024,
         "colorbar": {
          "title": {
           "text": "PFR_average"
          }
         },
         "colorscale": [
          [
           0,
           "rgb(103,0,31)"
          ],
          [
           0.1,
           "rgb(178,24,43)"
          ],
          [
           0.2,
           "rgb(214,96,77)"
          ],
          [
           0.3,
           "rgb(244,165,130)"
          ],
          [
           0.4,
           "rgb(253,219,199)"
          ],
          [
           0.5,
           "rgb(247,247,247)"
          ],
          [
           0.6,
           "rgb(209,229,240)"
          ],
          [
           0.7,
           "rgb(146,197,222)"
          ],
          [
           0.8,
           "rgb(67,147,195)"
          ],
          [
           0.9,
           "rgb(33,102,172)"
          ],
          [
           1,
           "rgb(5,48,97)"
          ]
         ]
        },
        "legend": {
         "tracegroupgap": 0
        },
        "margin": {
         "b": 25,
         "l": 25,
         "r": 25,
         "t": 50
        },
        "template": {
         "data": {
          "bar": [
           {
            "error_x": {
             "color": "#2a3f5f"
            },
            "error_y": {
             "color": "#2a3f5f"
            },
            "marker": {
             "line": {
              "color": "#E5ECF6",
              "width": 0.5
             },
             "pattern": {
              "fillmode": "overlay",
              "size": 10,
              "solidity": 0.2
             }
            },
            "type": "bar"
           }
          ],
          "barpolar": [
           {
            "marker": {
             "line": {
              "color": "#E5ECF6",
              "width": 0.5
             },
             "pattern": {
              "fillmode": "overlay",
              "size": 10,
              "solidity": 0.2
             }
            },
            "type": "barpolar"
           }
          ],
          "carpet": [
           {
            "aaxis": {
             "endlinecolor": "#2a3f5f",
             "gridcolor": "white",
             "linecolor": "white",
             "minorgridcolor": "white",
             "startlinecolor": "#2a3f5f"
            },
            "baxis": {
             "endlinecolor": "#2a3f5f",
             "gridcolor": "white",
             "linecolor": "white",
             "minorgridcolor": "white",
             "startlinecolor": "#2a3f5f"
            },
            "type": "carpet"
           }
          ],
          "choropleth": [
           {
            "colorbar": {
             "outlinewidth": 0,
             "ticks": ""
            },
            "type": "choropleth"
           }
          ],
          "contour": [
           {
            "colorbar": {
             "outlinewidth": 0,
             "ticks": ""
            },
            "colorscale": [
             [
              0,
              "#0d0887"
             ],
             [
              0.1111111111111111,
              "#46039f"
             ],
             [
              0.2222222222222222,
              "#7201a8"
             ],
             [
              0.3333333333333333,
              "#9c179e"
             ],
             [
              0.4444444444444444,
              "#bd3786"
             ],
             [
              0.5555555555555556,
              "#d8576b"
             ],
             [
              0.6666666666666666,
              "#ed7953"
             ],
             [
              0.7777777777777778,
              "#fb9f3a"
             ],
             [
              0.8888888888888888,
              "#fdca26"
             ],
             [
              1,
              "#f0f921"
             ]
            ],
            "type": "contour"
           }
          ],
          "contourcarpet": [
           {
            "colorbar": {
             "outlinewidth": 0,
             "ticks": ""
            },
            "type": "contourcarpet"
           }
          ],
          "heatmap": [
           {
            "colorbar": {
             "outlinewidth": 0,
             "ticks": ""
            },
            "colorscale": [
             [
              0,
              "#0d0887"
             ],
             [
              0.1111111111111111,
              "#46039f"
             ],
             [
              0.2222222222222222,
              "#7201a8"
             ],
             [
              0.3333333333333333,
              "#9c179e"
             ],
             [
              0.4444444444444444,
              "#bd3786"
             ],
             [
              0.5555555555555556,
              "#d8576b"
             ],
             [
              0.6666666666666666,
              "#ed7953"
             ],
             [
              0.7777777777777778,
              "#fb9f3a"
             ],
             [
              0.8888888888888888,
              "#fdca26"
             ],
             [
              1,
              "#f0f921"
             ]
            ],
            "type": "heatmap"
           }
          ],
          "heatmapgl": [
           {
            "colorbar": {
             "outlinewidth": 0,
             "ticks": ""
            },
            "colorscale": [
             [
              0,
              "#0d0887"
             ],
             [
              0.1111111111111111,
              "#46039f"
             ],
             [
              0.2222222222222222,
              "#7201a8"
             ],
             [
              0.3333333333333333,
              "#9c179e"
             ],
             [
              0.4444444444444444,
              "#bd3786"
             ],
             [
              0.5555555555555556,
              "#d8576b"
             ],
             [
              0.6666666666666666,
              "#ed7953"
             ],
             [
              0.7777777777777778,
              "#fb9f3a"
             ],
             [
              0.8888888888888888,
              "#fdca26"
             ],
             [
              1,
              "#f0f921"
             ]
            ],
            "type": "heatmapgl"
           }
          ],
          "histogram": [
           {
            "marker": {
             "pattern": {
              "fillmode": "overlay",
              "size": 10,
              "solidity": 0.2
             }
            },
            "type": "histogram"
           }
          ],
          "histogram2d": [
           {
            "colorbar": {
             "outlinewidth": 0,
             "ticks": ""
            },
            "colorscale": [
             [
              0,
              "#0d0887"
             ],
             [
              0.1111111111111111,
              "#46039f"
             ],
             [
              0.2222222222222222,
              "#7201a8"
             ],
             [
              0.3333333333333333,
              "#9c179e"
             ],
             [
              0.4444444444444444,
              "#bd3786"
             ],
             [
              0.5555555555555556,
              "#d8576b"
             ],
             [
              0.6666666666666666,
              "#ed7953"
             ],
             [
              0.7777777777777778,
              "#fb9f3a"
             ],
             [
              0.8888888888888888,
              "#fdca26"
             ],
             [
              1,
              "#f0f921"
             ]
            ],
            "type": "histogram2d"
           }
          ],
          "histogram2dcontour": [
           {
            "colorbar": {
             "outlinewidth": 0,
             "ticks": ""
            },
            "colorscale": [
             [
              0,
              "#0d0887"
             ],
             [
              0.1111111111111111,
              "#46039f"
             ],
             [
              0.2222222222222222,
              "#7201a8"
             ],
             [
              0.3333333333333333,
              "#9c179e"
             ],
             [
              0.4444444444444444,
              "#bd3786"
             ],
             [
              0.5555555555555556,
              "#d8576b"
             ],
             [
              0.6666666666666666,
              "#ed7953"
             ],
             [
              0.7777777777777778,
              "#fb9f3a"
             ],
             [
              0.8888888888888888,
              "#fdca26"
             ],
             [
              1,
              "#f0f921"
             ]
            ],
            "type": "histogram2dcontour"
           }
          ],
          "mesh3d": [
           {
            "colorbar": {
             "outlinewidth": 0,
             "ticks": ""
            },
            "type": "mesh3d"
           }
          ],
          "parcoords": [
           {
            "line": {
             "colorbar": {
              "outlinewidth": 0,
              "ticks": ""
             }
            },
            "type": "parcoords"
           }
          ],
          "pie": [
           {
            "automargin": true,
            "type": "pie"
           }
          ],
          "scatter": [
           {
            "fillpattern": {
             "fillmode": "overlay",
             "size": 10,
             "solidity": 0.2
            },
            "type": "scatter"
           }
          ],
          "scatter3d": [
           {
            "line": {
             "colorbar": {
              "outlinewidth": 0,
              "ticks": ""
             }
            },
            "marker": {
             "colorbar": {
              "outlinewidth": 0,
              "ticks": ""
             }
            },
            "type": "scatter3d"
           }
          ],
          "scattercarpet": [
           {
            "marker": {
             "colorbar": {
              "outlinewidth": 0,
              "ticks": ""
             }
            },
            "type": "scattercarpet"
           }
          ],
          "scattergeo": [
           {
            "marker": {
             "colorbar": {
              "outlinewidth": 0,
              "ticks": ""
             }
            },
            "type": "scattergeo"
           }
          ],
          "scattergl": [
           {
            "marker": {
             "colorbar": {
              "outlinewidth": 0,
              "ticks": ""
             }
            },
            "type": "scattergl"
           }
          ],
          "scattermapbox": [
           {
            "marker": {
             "colorbar": {
              "outlinewidth": 0,
              "ticks": ""
             }
            },
            "type": "scattermapbox"
           }
          ],
          "scatterpolar": [
           {
            "marker": {
             "colorbar": {
              "outlinewidth": 0,
              "ticks": ""
             }
            },
            "type": "scatterpolar"
           }
          ],
          "scatterpolargl": [
           {
            "marker": {
             "colorbar": {
              "outlinewidth": 0,
              "ticks": ""
             }
            },
            "type": "scatterpolargl"
           }
          ],
          "scatterternary": [
           {
            "marker": {
             "colorbar": {
              "outlinewidth": 0,
              "ticks": ""
             }
            },
            "type": "scatterternary"
           }
          ],
          "surface": [
           {
            "colorbar": {
             "outlinewidth": 0,
             "ticks": ""
            },
            "colorscale": [
             [
              0,
              "#0d0887"
             ],
             [
              0.1111111111111111,
              "#46039f"
             ],
             [
              0.2222222222222222,
              "#7201a8"
             ],
             [
              0.3333333333333333,
              "#9c179e"
             ],
             [
              0.4444444444444444,
              "#bd3786"
             ],
             [
              0.5555555555555556,
              "#d8576b"
             ],
             [
              0.6666666666666666,
              "#ed7953"
             ],
             [
              0.7777777777777778,
              "#fb9f3a"
             ],
             [
              0.8888888888888888,
              "#fdca26"
             ],
             [
              1,
              "#f0f921"
             ]
            ],
            "type": "surface"
           }
          ],
          "table": [
           {
            "cells": {
             "fill": {
              "color": "#EBF0F8"
             },
             "line": {
              "color": "white"
             }
            },
            "header": {
             "fill": {
              "color": "#C8D4E3"
             },
             "line": {
              "color": "white"
             }
            },
            "type": "table"
           }
          ]
         },
         "layout": {
          "annotationdefaults": {
           "arrowcolor": "#2a3f5f",
           "arrowhead": 0,
           "arrowwidth": 1
          },
          "autotypenumbers": "strict",
          "coloraxis": {
           "colorbar": {
            "outlinewidth": 0,
            "ticks": ""
           }
          },
          "colorscale": {
           "diverging": [
            [
             0,
             "#8e0152"
            ],
            [
             0.1,
             "#c51b7d"
            ],
            [
             0.2,
             "#de77ae"
            ],
            [
             0.3,
             "#f1b6da"
            ],
            [
             0.4,
             "#fde0ef"
            ],
            [
             0.5,
             "#f7f7f7"
            ],
            [
             0.6,
             "#e6f5d0"
            ],
            [
             0.7,
             "#b8e186"
            ],
            [
             0.8,
             "#7fbc41"
            ],
            [
             0.9,
             "#4d9221"
            ],
            [
             1,
             "#276419"
            ]
           ],
           "sequential": [
            [
             0,
             "#0d0887"
            ],
            [
             0.1111111111111111,
             "#46039f"
            ],
            [
             0.2222222222222222,
             "#7201a8"
            ],
            [
             0.3333333333333333,
             "#9c179e"
            ],
            [
             0.4444444444444444,
             "#bd3786"
            ],
            [
             0.5555555555555556,
             "#d8576b"
            ],
            [
             0.6666666666666666,
             "#ed7953"
            ],
            [
             0.7777777777777778,
             "#fb9f3a"
            ],
            [
             0.8888888888888888,
             "#fdca26"
            ],
            [
             1,
             "#f0f921"
            ]
           ],
           "sequentialminus": [
            [
             0,
             "#0d0887"
            ],
            [
             0.1111111111111111,
             "#46039f"
            ],
            [
             0.2222222222222222,
             "#7201a8"
            ],
            [
             0.3333333333333333,
             "#9c179e"
            ],
            [
             0.4444444444444444,
             "#bd3786"
            ],
            [
             0.5555555555555556,
             "#d8576b"
            ],
            [
             0.6666666666666666,
             "#ed7953"
            ],
            [
             0.7777777777777778,
             "#fb9f3a"
            ],
            [
             0.8888888888888888,
             "#fdca26"
            ],
            [
             1,
             "#f0f921"
            ]
           ]
          },
          "colorway": [
           "#636efa",
           "#EF553B",
           "#00cc96",
           "#ab63fa",
           "#FFA15A",
           "#19d3f3",
           "#FF6692",
           "#B6E880",
           "#FF97FF",
           "#FECB52"
          ],
          "font": {
           "color": "#2a3f5f"
          },
          "geo": {
           "bgcolor": "white",
           "lakecolor": "white",
           "landcolor": "#E5ECF6",
           "showlakes": true,
           "showland": true,
           "subunitcolor": "white"
          },
          "hoverlabel": {
           "align": "left"
          },
          "hovermode": "closest",
          "mapbox": {
           "style": "light"
          },
          "paper_bgcolor": "white",
          "plot_bgcolor": "#E5ECF6",
          "polar": {
           "angularaxis": {
            "gridcolor": "white",
            "linecolor": "white",
            "ticks": ""
           },
           "bgcolor": "#E5ECF6",
           "radialaxis": {
            "gridcolor": "white",
            "linecolor": "white",
            "ticks": ""
           }
          },
          "scene": {
           "xaxis": {
            "backgroundcolor": "#E5ECF6",
            "gridcolor": "white",
            "gridwidth": 2,
            "linecolor": "white",
            "showbackground": true,
            "ticks": "",
            "zerolinecolor": "white"
           },
           "yaxis": {
            "backgroundcolor": "#E5ECF6",
            "gridcolor": "white",
            "gridwidth": 2,
            "linecolor": "white",
            "showbackground": true,
            "ticks": "",
            "zerolinecolor": "white"
           },
           "zaxis": {
            "backgroundcolor": "#E5ECF6",
            "gridcolor": "white",
            "gridwidth": 2,
            "linecolor": "white",
            "showbackground": true,
            "ticks": "",
            "zerolinecolor": "white"
           }
          },
          "shapedefaults": {
           "line": {
            "color": "#2a3f5f"
           }
          },
          "ternary": {
           "aaxis": {
            "gridcolor": "white",
            "linecolor": "white",
            "ticks": ""
           },
           "baxis": {
            "gridcolor": "white",
            "linecolor": "white",
            "ticks": ""
           },
           "bgcolor": "#E5ECF6",
           "caxis": {
            "gridcolor": "white",
            "linecolor": "white",
            "ticks": ""
           }
          },
          "title": {
           "x": 0.05
          },
          "xaxis": {
           "automargin": true,
           "gridcolor": "white",
           "linecolor": "white",
           "ticks": "",
           "title": {
            "standoff": 15
           },
           "zerolinecolor": "white",
           "zerolinewidth": 2
          },
          "yaxis": {
           "automargin": true,
           "gridcolor": "white",
           "linecolor": "white",
           "ticks": "",
           "title": {
            "standoff": 15
           },
           "zerolinecolor": "white",
           "zerolinewidth": 2
          }
         }
        }
       }
      }
     },
     "metadata": {},
     "output_type": "display_data"
    }
   ],
   "source": [
    "import mysql.connector\n",
    "import pycountry\n",
    "import plotly.express as px\n",
    "import pandas as pd\n",
    "import numpy as np\n",
    "\n",
    "mydb = mysql.connector.connect(\n",
    "  host=\"127.0.0.1\",\n",
    "  user=\"root\",\n",
    "  password=\"qwerty123\",\n",
    "  database=\"cs306\"\n",
    ")\n",
    "\n",
    "mycursor = mydb.cursor()\n",
    "mycursor.execute(\n",
    "    '''\n",
    "    Select pfr_.Country, AVG(pfr_.PFR) AS PFR_average\n",
    "        FROM cs306.pfr pfr_\n",
    "        GROUP BY pfr_.Country;\n",
    "    '''\n",
    ")\n",
    "\n",
    "df = pd.DataFrame(columns=[\"Country\", \"iso_alpha\", \"PFR_average\"])\n",
    "\n",
    "for (Country, PFR_average) in mycursor:\n",
    "    if (Country == 'Russia'):\n",
    "        c = pycountry.countries.get(name='Russian Federation')\n",
    "        tmp = pd.DataFrame(\n",
    "            [{\"Country\": \"Russian Federation\", \"iso_alpha\": c.alpha_3, \"PFR_average\": float(PFR_average) }])\n",
    "        df = pd.concat([df, tmp], axis=0, ignore_index=True)\n",
    "    else:\n",
    "      c = pycountry.countries.get(name=Country)\n",
    "      if c is None:\n",
    "          c = pycountry.countries.get(common_name=Country)\n",
    "      try:\n",
    "          tmp = pd.DataFrame(\n",
    "              [{\"Country\": Country, \"iso_alpha\": c.alpha_3, \"PFR_average\": float(PFR_average) }])\n",
    "          df = pd.concat([df, tmp], axis=0, ignore_index=True)\n",
    "      except:\n",
    "          continue\n",
    "\n",
    "fig = px.treemap(df, path=['Country'], values='PFR_average',\n",
    "                  color='PFR_average', hover_data=['iso_alpha'],\n",
    "                  color_continuous_scale='RdBu',\n",
    "                  color_continuous_midpoint=np.average(df['PFR_average'], weights=df['PFR_average']))\n",
    "fig.update_layout(margin = dict(t=50, l=25, r=25, b=25))\n",
    "fig.show()"
   ]
  }
 ],
 "metadata": {
  "kernelspec": {
   "display_name": "Python 3",
   "language": "python",
   "name": "python3"
  },
  "language_info": {
   "codemirror_mode": {
    "name": "ipython",
    "version": 3
   },
   "file_extension": ".py",
   "mimetype": "text/x-python",
   "name": "python",
   "nbconvert_exporter": "python",
   "pygments_lexer": "ipython3",
   "version": "3.10.9"
  },
  "orig_nbformat": 4
 },
 "nbformat": 4,
 "nbformat_minor": 2
}
